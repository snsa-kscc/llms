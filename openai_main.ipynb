{
 "cells": [
  {
   "cell_type": "code",
   "execution_count": 2,
   "metadata": {},
   "outputs": [],
   "source": [
    "from langchain.llms import OpenAI"
   ]
  },
  {
   "cell_type": "code",
   "execution_count": 10,
   "metadata": {},
   "outputs": [],
   "source": [
    "llm = OpenAI(model=\"text-davinci-003\", temperature=0)\n"
   ]
  },
  {
   "cell_type": "code",
   "execution_count": 11,
   "metadata": {},
   "outputs": [],
   "source": [
    "text = '''\n",
    "You are linguist professional. Please minimise a paragraph just using abbreviations (e.g. min. instead of minimum) & symbols (e.g. & instead of and) without losing key details (e.g. dates, values, metrics). Everything else must stay the same, do not summarize text in any shape or form. Just abbreviate. \n",
    "\n",
    "Here is the block of text:\n",
    "\n",
    "Over the past five years the number of children’s care homes located in areas with the cheapest house sale prices has risen almost three times faster than in the most expensive places. Among the regions with big increases in homes was the north-west, including in parts of Blackpool and Burnley and other northern cities such as Bradford. Children’s services directors warned that the trends were driven by the “blatant profiteering” of private care providers, targeting cheap housing and local labour.\n",
    "\n",
    "The findings suggest private companies are locating homes where it is cheapest for them to do so, rather than where they are needed. The practice helps them increase profits. However, it also means vulnerable children can end up being moved hundreds of miles for a care place, splitting them from family and support networks that they rely on. It comes after the Observer revealed that some children were being moved to care homes more than 300 miles away from their neighbourhoods.\n",
    "'''"
   ]
  },
  {
   "cell_type": "code",
   "execution_count": 12,
   "metadata": {},
   "outputs": [
    {
     "name": "stdout",
     "output_type": "stream",
     "text": [
      "\n",
      "Over the past 5 yrs, the # of children's care homes in areas w/ cheapest house sale prices has risen ~3x faster than in most expensive places. NW incl. Blackpool, Burnley & other northern cities (e.g. Bradford) saw big increases. Driven by private care providers' \"blatant profiteering\" targeting cheap housing & local labour. Suggests companies locating homes where cheapest, not where needed. Increases profits, but also means vulnerable children moved hundreds of miles, splitting them from family & support networks. Obs. revealed some moved >300 miles away from neighbourhoods.\n"
     ]
    }
   ],
   "source": [
    "print(llm(text))"
   ]
  },
  {
   "cell_type": "code",
   "execution_count": null,
   "metadata": {},
   "outputs": [],
   "source": []
  }
 ],
 "metadata": {
  "kernelspec": {
   "display_name": "Python 3",
   "language": "python",
   "name": "python3"
  },
  "language_info": {
   "codemirror_mode": {
    "name": "ipython",
    "version": 3
   },
   "file_extension": ".py",
   "mimetype": "text/x-python",
   "name": "python",
   "nbconvert_exporter": "python",
   "pygments_lexer": "ipython3",
   "version": "3.9.6"
  },
  "orig_nbformat": 4
 },
 "nbformat": 4,
 "nbformat_minor": 2
}
